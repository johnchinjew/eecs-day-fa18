{
 "cells": [
  {
   "cell_type": "markdown",
   "metadata": {},
   "source": [
    "## Welcome to EECS Day!"
   ]
  },
  {
   "cell_type": "markdown",
   "metadata": {},
   "source": [
    "In this lab, we'll be learning some CS fundamentals with the help of iPython (this webpage) and Turtle Graphics! If you have any questions, don't be afraid to ask! We don't byte, I swear. (<a href=\"https://simple.wikipedia.org/wiki/Byte\">pun entirely intended</a>)\n",
    "\n",
    "First, we'll introduce the basics of iPython to get you up and running. iPython code is written in cells which you can run individually, but data from one can be used in another. First, locate this set of buttons in the toolbar above:\n",
    "\n",
    "<img src=\"toolbar.png\" width=\"130px\" style=\"float: left\"/> <br><br><br>\n",
    "\n",
    "To run a cell, click on the cell so it's highlighted green, then click the leftmost button in that group, the \"Run Cell\" button. Try this on the code cell below:"
   ]
  },
  {
   "cell_type": "code",
   "execution_count": null,
   "metadata": {},
   "outputs": [],
   "source": [
    "# This is a code cell! You can click here to write/edit Python code\n",
    "# then click on the \"Run\" button above to run it.\n",
    "\n",
    "print(\"Hello, world! Welcome to EECS Day!\")"
   ]
  },
  {
   "cell_type": "markdown",
   "metadata": {},
   "source": [
    "#### Woah, that did a thing!\n",
    "\n",
    "`print()` displays the message between the parentheses below the code cell. `print()` statements are very useful, as you'll soon see. You'll also soon see why the message is in quotes.\n",
    "\n",
    "And Python can do many more things, as we'll see shortly. First, though, there are two more buttons in the toolbar group above. You shouldn't need the rightmost one, but the center one (with the square) may be helpful. This is the \"Stop Cell\" button, and it can be used to, oddly enough, stop a cell from running. If you're tired of a cell running, you can click on the offending cell then click this button to stop it. We won't demonstrate it here, but it's there if you need it.\n",
    "\n",
    "Even if a cell doesn't have any code for you to write or edit, you should run it anyway! Later parts may depend on code from earlier parts..."
   ]
  },
  {
   "cell_type": "markdown",
   "metadata": {},
   "source": [
    "## A brief introduction to Python...\n",
    "\n",
    "<img src=\"python-logo.png\" width=\"200px\" style=\"float: left\"/><br><br><br>\n",
    "\n",
    "We're probably getting a bit ahead of ourselves here. First, **what is Python?**\n",
    "\n",
    "Python is a popular <b>programming language</b>, which means it allows you to tell a computer <i>exactly</i> what to do with special text called code. Although Python is only one of many such programming languages, it's very similar to a lot of others, so whatever you learn in Python can easily be transferred to other languages. Other popular programming languages include Java, C, and JavaScript.\n",
    "\n",
    "<i>iPython</i>, on the other hand, is just an environment for running Python in a web browser, with text and graphics along with the code (as we're including here). As a result, learning coding in iPython means you're actually just learning Python!\n",
    "<br>\n",
    "\n",
    "## Comments: a short digression\n",
    "\n",
    "Additionally, we should introduce <b>comments,</b> which you may have noticed above. Anything after a hashtag (<b>#</b>) in a line of Python code isn't actually run; it's just there as a note by the programmer. These are really useful to document what code does in-line with the code itself, and using them is considered good coding practice."
   ]
  },
  {
   "cell_type": "code",
   "execution_count": null,
   "metadata": {},
   "outputs": [],
   "source": [
    "# I am a comment!\n",
    "# Anything written here is not run."
   ]
  },
  {
   "cell_type": "markdown",
   "metadata": {},
   "source": [
    "## Let's get started: variables\n",
    "\n",
    "We're going to jump right into <b>variables.</b> Much like in algebra, variables in programming allow us to put a placeholder in our code to \"stand-in\" for a value. Unlike in algebra, however, variables in programming can stand in for much more than just numbers, like strings of text (called <b>strings,</b> oddly enough) and much more!\n",
    "\n",
    "Variables in Python are defined with an equals sign, with the name of the variable on the left and the initial value on the right.\n",
    "\n",
    "Fill in the variables in the code cell below by replacing the written values to the right of the equals sign with your own answers!"
   ]
  },
  {
   "cell_type": "code",
   "execution_count": null,
   "metadata": {},
   "outputs": [],
   "source": [
    "# Fill in your first and last name below by replacing FirstName and LastName\n",
    "# These are string types, and when you type string values they're surrounded with quotes\n",
    "first_name = \"FirstName\"\n",
    "last_name = \"LastName\"\n",
    "\n",
    "# Strings can be combined using the + operator\n",
    "# This is called string concatenation\n",
    "full_name = first_name + \" \" + last_name\n",
    "\n",
    "# While we're at it, what's your favorite color?\n",
    "favorite_color = \"Color\"\n",
    "\n",
    "# Now, what's your favorite number?\n",
    "# This is a number type. Notice it doesn't have quotes? Numbers don't have them.\n",
    "favorite_number = 0\n",
    "\n",
    "# Is this lab cool?\n",
    "# This is called a boolean type, it can either be True or False\n",
    "# The correct answer here is True, by the way ;)\n",
    "lab_cool = True"
   ]
  },
  {
   "cell_type": "markdown",
   "metadata": {},
   "source": [
    "Run the cell above, and you'll notice it doesn't seem to do anything yet. Let's fix that!\n",
    "\n",
    "Run this cell:"
   ]
  },
  {
   "cell_type": "code",
   "execution_count": null,
   "metadata": {},
   "outputs": [],
   "source": [
    "# We can view the values of variables with print()\n",
    "print(\"Full name: \" + full_name)"
   ]
  },
  {
   "cell_type": "markdown",
   "metadata": {},
   "source": [
    "Try playing around with the `print()` statement above. See if you can get it to print out the other variables you declared above. Once you're satisfied, feel free to move on."
   ]
  },
  {
   "cell_type": "markdown",
   "metadata": {},
   "source": [
    "## Lists\n",
    "\n",
    "Python also has something called a <b>list</b>, (similar <b>array</b> in some other languages) which allows us to store multiple values in one variable. You can then access the values by <i>indexing</i> into the list, as we'll see below. Note that lists are kind of weird, in that the first index is actually position <i>zero.</i>"
   ]
  },
  {
   "cell_type": "code",
   "execution_count": null,
   "metadata": {},
   "outputs": [],
   "source": [
    "# We create the list here, starting with your first and last name in the first two positions\n",
    "# Notice how we can use values and variables interchangeably.\n",
    "info = [first_name, last_name, \"Hello!\"]\n",
    "\n",
    "\n",
    "# We print out the first value of the list, by indexing into position zero\n",
    "print(\"info[0]: \" + info[0])\n",
    "\n",
    "\n",
    "# We can also change the value at a particular index in the list\n",
    "# Try putting a nickname in place of your first name!\n",
    "info[0] = \"Nickname\"\n",
    "\n",
    "\n",
    "# Notice how the value at info[0] changed?\n",
    "print(\"info[0], redux: \" + info[0])\n",
    "\n",
    "\n",
    "# We can also just print out the whole list\n",
    "print(\"info:\", info)\n",
    "\n",
    "\n",
    "# We can even add your favorite color!\n",
    "info = info + [favorite_color]\n",
    "\n",
    "print(\"info:\", info)"
   ]
  },
  {
   "cell_type": "markdown",
   "metadata": {},
   "source": [
    "## Functions\n",
    "\n",
    "Python has many built-in functions which <i>do things.</i> Functions take *arguments*, which are the comma-separated values in between the parentheses following the function name. You can even write your own functions, but we'll get into that later.\n",
    "\n",
    "We've already seen the `print()` function, which \"prints out\" its arguments, but there are many more. For now, however, we'll mostly be using `print()` and functions from Turtle Graphics.\n",
    "\n",
    "Speaking of which..."
   ]
  },
  {
   "cell_type": "markdown",
   "metadata": {},
   "source": [
    "## A brief introduction to Turtle Graphics\n",
    "\n",
    "We'll also be using something called <a href=\"https://docs.python.org/2/library/turtle.html\">Turtle Graphics</a> in this lab, which sadly features no actual turtles. Instead, it's a library (basically code that someone else wrote that we can use) that allows us to draw with commands, kind of like an Etch-A-Sketch. Run the code cell below to import (run with our code) and initialize (start up) Turtle Graphics. A window like this one should pop up:\n",
    "\n",
    "<img src=\"turtle-start.png\" width=\"400px\">\n",
    "\n",
    "You'll want to have it open and visible along with this one."
   ]
  },
  {
   "cell_type": "code",
   "execution_count": null,
   "metadata": {},
   "outputs": [],
   "source": [
    "# We want to use turtle\n",
    "import turtle\n",
    "\n",
    "# Start up Turtle Graphics\n",
    "turtle.Turtle()"
   ]
  },
  {
   "cell_type": "markdown",
   "metadata": {},
   "source": [
    "In the code cell below, we start with some basic Turtle functions. Try to predict what this cell will do, then run it and find out!"
   ]
  },
  {
   "cell_type": "code",
   "execution_count": null,
   "metadata": {},
   "outputs": [],
   "source": [
    "# Distance to move in pixels (individual points on the screen)\n",
    "distance = 100\n",
    "# Number of degrees to turn\n",
    "turn_degrees = 90\n",
    "\n",
    "turtle.forward(distance)\n",
    "turtle.left(turn_degrees)\n",
    "turtle.forward(distance)"
   ]
  },
  {
   "cell_type": "markdown",
   "metadata": {},
   "source": [
    "Now, we can reset the canvas with the code cell below."
   ]
  },
  {
   "cell_type": "code",
   "execution_count": null,
   "metadata": {},
   "outputs": [],
   "source": [
    "turtle.reset()"
   ]
  },
  {
   "cell_type": "markdown",
   "metadata": {},
   "source": [
    "Try writing the code to draw a square. You can use the variables above for distance and turning angle, or redefine them however you'd like."
   ]
  },
  {
   "cell_type": "code",
   "execution_count": null,
   "metadata": {},
   "outputs": [],
   "source": [
    "# Use the functions above to draw a square\n"
   ]
  },
  {
   "cell_type": "markdown",
   "metadata": {},
   "source": [
    "## Loops\n",
    "\n",
    "Wow, that was a lot of work! Instead, we can simplify the code by using\n",
    "*loops.* There are two popular types of loops, `for` and `while` loops. First we'll take a look at the `for` loop.  "
   ]
  },
  {
   "cell_type": "code",
   "execution_count": null,
   "metadata": {},
   "outputs": [],
   "source": [
    "# This loop prints the numbers 0 through 4\n",
    "for i in range(0, 5, 1):\n",
    "    print(i)"
   ]
  },
  {
   "cell_type": "markdown",
   "metadata": {},
   "source": [
    "Wow, that loop did so much stuff! Let's break it down.\n",
    "\n",
    "Firstly, you probably noticed that the `print()` function call above is indented. Python uses indentation to group things together, so everything indented by one or more tabs under the `for` declaration will be looped over.\n",
    "\n",
    "For loops starts with the `for` keyword that's highlighted in green. \n",
    "\n",
    "Next is the variable name `i` which stores the current loop value. `in` is another necessary keyword. \n",
    "\n",
    "Finally, we have the function `range(start, stop, step)` that takes in three arguments. `range()` returns numbers from `start` up to, but not including, `stop`, incrementing by size `step`.\n",
    "\n",
    "We can even `for` loop over the contents of a list!"
   ]
  },
  {
   "cell_type": "code",
   "execution_count": null,
   "metadata": {},
   "outputs": [],
   "source": [
    "# Here we loop over the contents of this list,\n",
    "# building up the variable \"concatenated\" as we go\n",
    "loop_over_me = [first_name, \" \", last_name, \" \", \"is \", \"the \", \"best\"]\n",
    "concatenated = \"\"\n",
    "\n",
    "for element in loop_over_me:\n",
    "    concatenated = concatenated + element\n",
    "    print(element)\n",
    "\n",
    "print(\"Concatenated string:\", concatenated)"
   ]
  },
  {
   "cell_type": "markdown",
   "metadata": {},
   "source": [
    "At this point, you've learned more than enough to write the code to draw a square with a `for` loop! Let's do it:"
   ]
  },
  {
   "cell_type": "code",
   "execution_count": null,
   "metadata": {},
   "outputs": [],
   "source": [
    "turtle.reset()\n",
    "# Write the code to draw a square, except use a for loop this time\n"
   ]
  },
  {
   "cell_type": "markdown",
   "metadata": {},
   "source": [
    "See, wasn't that easier!\n",
    "\n",
    "Now, we'll move on to `while` loops. Try to predict what the code below will do, then run it and find out!"
   ]
  },
  {
   "cell_type": "code",
   "execution_count": null,
   "metadata": {},
   "outputs": [],
   "source": [
    "# What could this code possibly do?\n",
    "i = 0\n",
    "while i < 5:\n",
    "    print(i)\n",
    "    i = i + 1"
   ]
  },
  {
   "cell_type": "markdown",
   "metadata": {},
   "source": [
    "Interesting...\n",
    "\n",
    "First, you probably noticed that the `while` loop, like the `for` loop, used indentation. But the similarities pretty much stop there...\n",
    "\n",
    "We first declared the variable `i` outside of the loop, and set it to zero. Then we start the loop. `while` loops, unlike `for` loops, check a *condition* before proceeding. If the condition evaluates to *True*, the loop runs another time. Otherwise, if `i < 5` evaluates to *False*, the loop stops and the code moves on.\n",
    "\n",
    "The `<` is called a comparator because it *compares* the two values, just like in math. Python has several such comparators:\n",
    "\n",
    "Comparator | Meaning\n",
    "-----------| -------\n",
    "== | Equal to\n",
    "< | Less than\n",
    "<= | Less than or equal to\n",
    "\\> | Greater than\n",
    "\\>= | Greater than or equal to\n",
    "!= | Not equal to\n",
    "\n",
    "You can even combine comparators with `and` and `or`, or negate the results with `not`. In fact, any expression which evaluates to a boolean (*True* or *False*) value can be placed in a `while` loop.\n",
    "\n",
    "So, the above loop could have also been far more complicated, with the same results. We also could have written:"
   ]
  },
  {
   "cell_type": "code",
   "execution_count": null,
   "metadata": {},
   "outputs": [],
   "source": [
    "# This code is bad. Never actually write code like this...\n",
    "i = 0\n",
    "while (not i >= 5) or i > 10000000 or False:\n",
    "    print(i)\n",
    "    i = i + 1"
   ]
  },
  {
   "cell_type": "markdown",
   "metadata": {},
   "source": [
    "Now you're ready to write the square-drawing code with a `while` loop!"
   ]
  },
  {
   "cell_type": "code",
   "execution_count": null,
   "metadata": {},
   "outputs": [],
   "source": [
    "turtle.reset()\n",
    "# Write the code to draw a square, except use a while loop this time\n"
   ]
  },
  {
   "cell_type": "markdown",
   "metadata": {},
   "source": [
    "## Conditionals\n",
    "\n",
    "We've done a lot so far, but we're not done yet! Next we're going to discuss conditional statements, which are *super important* in programming.\n",
    "\n",
    "We'll start with an example. Try running this cell with different values of `i`."
   ]
  },
  {
   "cell_type": "code",
   "execution_count": null,
   "metadata": {},
   "outputs": [],
   "source": [
    "# Try different values of i and see what's printed!\n",
    "i = 0\n",
    "\n",
    "if i < 0:               # Checked first\n",
    "    print(\"Negative\")\n",
    "elif i == 0:            # Checked next\n",
    "    print(\"Zero\")\n",
    "else:                   # Checked last\n",
    "    print(\"Positive\")"
   ]
  },
  {
   "cell_type": "markdown",
   "metadata": {},
   "source": [
    "Like a `while` loop, a conditional statement checks a conditional expression, and if it evaluates to *True*, runs the body. If the expression evaluates to *False*, it moves on to the next statement. If none of the conditions evaluate to *True*, the `else` statement, if included, runs as the default.\n",
    "\n",
    "In Python, conditional statements flow as such:\n",
    "\n",
    "1. An `if` statement\n",
    "2. Zero or more `elif` statements (a combination of the words *else* and *if*)\n",
    "3. Zero or one `else` statement\n",
    "\n",
    "Now, we're going to combine our knowledge from the last few lessons to make something more advanced! We'd like to create a miniature instruction set so we can tell our Turtle what to do more easily. Fill in the blanks in the code below, then try running it:"
   ]
  },
  {
   "cell_type": "code",
   "execution_count": null,
   "metadata": {},
   "outputs": [],
   "source": [
    "turtle.reset()\n",
    "# Blank: fill in a list of commands in the form of integer numbers\n",
    "# which are positive, negative, or zero\n",
    "commands = []\n",
    "\n",
    "for comm in commands:\n",
    "    # Blank: We want the following to hold true:\n",
    "    #        - Negative commands make the Turtle turn right 90 degrees\n",
    "    #             Hint: turtle.right is a useful function here\n",
    "    #        - Positive commands make the Turtle turn left 90 degrees\n",
    "    #        - Zero commands make the Turtle go forward 100 pixels\n",
    "    # Write the if statements to perform this for each value in the list here:\n",
    "    \n",
    "    print(comm)"
   ]
  },
  {
   "cell_type": "markdown",
   "metadata": {},
   "source": [
    "You did it! Now on to our final topic."
   ]
  },
  {
   "cell_type": "markdown",
   "metadata": {},
   "source": [
    "## Functions, Part II: Revenge of the lazy programmer\n",
    "\n",
    "At this point, you've used plenty of other people's functions. But it turns out you can also write your own!\n",
    "\n",
    "Functions allow you to write a section of code once and easily reuse it elsewhere in your program. Like loops and conditional statements, functions use indentation to group lines of code together. In Python, you *define* a function with a `def` statement. Run the code cell below for an example."
   ]
  },
  {
   "cell_type": "code",
   "execution_count": null,
   "metadata": {},
   "outputs": [],
   "source": [
    "def range_print(end):\n",
    "    for i in range(0, end + 1, 1):\n",
    "        print(i)"
   ]
  },
  {
   "cell_type": "markdown",
   "metadata": {},
   "source": [
    "Well that's strange, it didn't *do anything*. What happens if we try to call it like we've been doing?"
   ]
  },
  {
   "cell_type": "code",
   "execution_count": null,
   "metadata": {},
   "outputs": [],
   "source": [
    "range_print(5)"
   ]
  },
  {
   "cell_type": "markdown",
   "metadata": {},
   "source": [
    "**Woah, look at that!**\n",
    "\n",
    "Functions are even more powerful though. Instead of just printing things, they can also *return* data back to the function caller with the `return` keyword. Run this example to see:"
   ]
  },
  {
   "cell_type": "code",
   "execution_count": null,
   "metadata": {},
   "outputs": [],
   "source": [
    "def range_return(start, end):\n",
    "    lst = []\n",
    "    for i in range(start, end + 1, 1):\n",
    "        lst = lst + [i]\n",
    "    return lst"
   ]
  },
  {
   "cell_type": "code",
   "execution_count": null,
   "metadata": {},
   "outputs": [],
   "source": [
    "print(range_return(1, 5))"
   ]
  },
  {
   "cell_type": "markdown",
   "metadata": {},
   "source": [
    "**So what's happening here?**\n",
    "\n",
    "The function `range_return()` returns a list of values in the specified range (inclusive on both bounds, try to figure out why). Then, the `print()` function takes that list as an argument and prints the list!\n",
    "\n",
    "Now that you've learned so much, it's time to put it all together! In the code cell below, write a function called `draw()` that takes in a list of commands in this format:\n",
    "\n",
    "Command | Meaning\n",
    "-- | --\n",
    "A positive integer `x` | Move forward `x` units\n",
    "A negative integer `x` | Turn left by `-1 * x` degrees\n",
    "A zero | Do nothing\n",
    "\n",
    "and runs them all sequentially to instruct the Turtle to generate a drawing. This is one of the hardest parts of the lab, so again, if you get stuck or have questions, don't be afraid to ask!\n",
    "\n",
    "Hint: We'd like to start with a fresh canvas each time, so start by resetting Turtle."
   ]
  },
  {
   "cell_type": "code",
   "execution_count": null,
   "metadata": {},
   "outputs": [],
   "source": [
    "# Write your function below:\n",
    "\n",
    "def draw():\n",
    "    # ...\n",
    "    # ..."
   ]
  },
  {
   "cell_type": "markdown",
   "metadata": {},
   "source": [
    "Now, we can test your implementation! Run the code cell below to see what happens!"
   ]
  },
  {
   "cell_type": "code",
   "execution_count": null,
   "metadata": {},
   "outputs": [],
   "source": [
    "draw([100, -90, 100, 100, -90, 100, 100, -90, 100, 100, -90, 100])"
   ]
  },
  {
   "cell_type": "markdown",
   "metadata": {},
   "source": [
    "That shape might look familiar! Let's try something more advanced..."
   ]
  },
  {
   "cell_type": "code",
   "execution_count": null,
   "metadata": {},
   "outputs": [],
   "source": [
    "lst = []\n",
    "\n",
    "for i in range(0, 300, 5):\n",
    "    lst = lst + [-90, i]\n",
    "    \n",
    "draw(lst)"
   ]
  },
  {
   "cell_type": "markdown",
   "metadata": {
    "collapsed": true
   },
   "source": [
    "Think of how much code that would've taken to write out directly! Thanks to loops, conditionals, and functions, we've done so much with just a few lines. In fact, you've just built a basic *interpreter*, which is a program that takes commands and takes actions based on them.\n",
    "\n",
    "Now, try drawing a 5-pointed star with your `draw()` function."
   ]
  },
  {
   "cell_type": "code",
   "execution_count": null,
   "metadata": {},
   "outputs": [],
   "source": [
    "star = []\n",
    "\n",
    "# Fill in the list \"star\" to draw a star\n",
    "\n",
    "\n",
    "turtle.reset()\n",
    "draw(star)"
   ]
  },
  {
   "cell_type": "markdown",
   "metadata": {},
   "source": [
    "In the cell below, we encourage you to try writing more programs with your `draw()` function to see what you can create!"
   ]
  },
  {
   "cell_type": "code",
   "execution_count": null,
   "metadata": {},
   "outputs": [],
   "source": [
    "# Have fun with your draw() function!\n"
   ]
  },
  {
   "cell_type": "markdown",
   "metadata": {},
   "source": [
    "### Congratulations, you've reached the end!\n",
    "\n",
    "This is the end of the official lab. We hope you've had fun and learned a lot! We're including one more code cell below as a blank canvas. We encourage you to try whatever you'd like, but if you're looking for suggestions, Turtle Graphics has a lot more interesting features you can play around with: <a href=\"https://docs.python.org/2/library/turtle.html\">you can find the documentation here</a>.\n",
    "\n",
    "Alternatively, feel free to ask the lab assistants for suggestions. I'm sure they'd love some help with *their* programming homework!"
   ]
  },
  {
   "cell_type": "code",
   "execution_count": null,
   "metadata": {},
   "outputs": [],
   "source": []
  }
 ],
 "metadata": {
  "kernelspec": {
   "display_name": "Python 3",
   "language": "python",
   "name": "python3"
  },
  "language_info": {
   "codemirror_mode": {
    "name": "ipython",
    "version": 3
   },
   "file_extension": ".py",
   "mimetype": "text/x-python",
   "name": "python",
   "nbconvert_exporter": "python",
   "pygments_lexer": "ipython3",
   "version": "3.6.5"
  }
 },
 "nbformat": 4,
 "nbformat_minor": 2
}
